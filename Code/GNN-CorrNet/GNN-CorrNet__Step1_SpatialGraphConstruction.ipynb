{
 "cells": [
  {
   "cell_type": "markdown",
   "metadata": {},
   "source": [
    "Our GeoAI approach to Geodemographic classification consists of four consecutive steps: **Spatial Graph Construction**, **Geo-saptially Embedding Generation**, **Canonical-correlation Analysis-based Embedding generation** and **K-Mean clustering**. This notebook is demonstrating the step of **Spatial Graph Construction**, the following procedures can be seen in Jupyter notebook *Step2-GeoAIGeodemographicClassification-SaptiallyEmbeddingGeneration.ipynb* and *Step3-GeoAIGeodemographicClassification.ipynb*"
   ]
  },
  {
   "cell_type": "markdown",
   "metadata": {},
   "source": [
    "**Step 1: Spatial Graph Construction**: For demonstration purpose, we presented one of the experiments mentioned in our paper which constrasts the spatial graph using the *K*-nearest neighbours (KNN) method (using *Pysal* to identify geospatial neighbourhoods for each OA and construct a spatial graph. The number of *K* in KNN is defined as 8, based on the average number of direct neighbours among OAs in the study area. It is important to note that that is one of many possible approaches. Different ways of constructing spatial graphs may have positive or negative impacts on the output of spatially explicit deep learning models, and therefore introducing additional uncertainties into the geographical analysis."
   ]
  },
  {
   "cell_type": "code",
   "execution_count": null,
   "metadata": {},
   "outputs": [],
   "source": [
    "import pysal\n",
    "import geopandas as gpd\n",
    "import pandas\n",
    "from numpy import array\n",
    "from scipy.sparse import csr_matrix\n",
    "#please specify the location of the shapefile\n",
    "spatial_data_file = 'Data/Input/London-Map-OAs/OA_2011_London_gen_MHW.shp'\n",
    "spatial_data_db = gpd.read_file(spatial_data_file)\n",
    "spatial_data_attr = pandas.DataFrame(spatial_data_db)\n",
    "\n",
    "#Construct KNN(k=8) graph\n",
    "spatial_wknn=pysal.weights.KNN.from_shapefile(spatial_data_file, k = 8)\n",
    "S = spatial_wknn.sparse"
   ]
  },
  {
   "cell_type": "markdown",
   "metadata": {},
   "source": [
    "After the spatial graph construction, we need to export the connections among OAs into a csv file"
   ]
  },
  {
   "cell_type": "code",
   "execution_count": null,
   "metadata": {},
   "outputs": [],
   "source": [
    "S = S.toarray()\n",
    "row = 0\n",
    "row_col = []\n",
    "for i in S:\n",
    "\n",
    "    for j in range(len(i)):\n",
    "        if i[j] == 1:\n",
    "            row_col.append((row,j))\n",
    "    row+=1\n",
    "\n",
    "oa_code= spatial_data_attr['OA11CD']\n",
    "\n",
    "#please specify the location of the csv file to be saved in\n",
    "with open('Data/Output/Spatial-Graph/SpatialGraphs.csv', mode='w') as file:\n",
    "    writer = csv.writer(file, delimiter=',')\n",
    "    for n in range(len(row_col)):\n",
    "        writer.writerow([oa_code[row_col[n][0]], oa_code[row_col[n][1]],\"NeighbourOf\"])"
   ]
  }
 ],
 "metadata": {
  "kernelspec": {
   "display_name": "Python 3",
   "language": "python",
   "name": "python3"
  },
  "language_info": {
   "codemirror_mode": {
    "name": "ipython",
    "version": 3
   },
   "file_extension": ".py",
   "mimetype": "text/x-python",
   "name": "python",
   "nbconvert_exporter": "python",
   "pygments_lexer": "ipython3",
   "version": "3.6.6"
  }
 },
 "nbformat": 4,
 "nbformat_minor": 2
}
